{
 "cells": [
  {
   "cell_type": "code",
   "execution_count": 1,
   "id": "f6933d3e",
   "metadata": {},
   "outputs": [],
   "source": [
    "import talib as ta"
   ]
  },
  {
   "cell_type": "code",
   "execution_count": 2,
   "id": "ee83221a",
   "metadata": {},
   "outputs": [],
   "source": [
    "import yfinance as yf\n",
    "import numpy as np\n",
    "import pandas as pd"
   ]
  },
  {
   "cell_type": "code",
   "execution_count": 3,
   "id": "0c8fe83d",
   "metadata": {},
   "outputs": [
    {
     "name": "stdout",
     "output_type": "stream",
     "text": [
      "[*********************100%***********************]  1 of 1 completed\n"
     ]
    },
    {
     "data": {
      "text/html": [
       "<div>\n",
       "<style scoped>\n",
       "    .dataframe tbody tr th:only-of-type {\n",
       "        vertical-align: middle;\n",
       "    }\n",
       "\n",
       "    .dataframe tbody tr th {\n",
       "        vertical-align: top;\n",
       "    }\n",
       "\n",
       "    .dataframe thead th {\n",
       "        text-align: right;\n",
       "    }\n",
       "</style>\n",
       "<table border=\"1\" class=\"dataframe\">\n",
       "  <thead>\n",
       "    <tr style=\"text-align: right;\">\n",
       "      <th></th>\n",
       "      <th>Open</th>\n",
       "      <th>High</th>\n",
       "      <th>Low</th>\n",
       "      <th>Close</th>\n",
       "      <th>Adj Close</th>\n",
       "      <th>Volume</th>\n",
       "    </tr>\n",
       "    <tr>\n",
       "      <th>Date</th>\n",
       "      <th></th>\n",
       "      <th></th>\n",
       "      <th></th>\n",
       "      <th></th>\n",
       "      <th></th>\n",
       "      <th></th>\n",
       "    </tr>\n",
       "  </thead>\n",
       "  <tbody>\n",
       "    <tr>\n",
       "      <th>2022-08-01</th>\n",
       "      <td>1564.000000</td>\n",
       "      <td>1564.000000</td>\n",
       "      <td>1537.900024</td>\n",
       "      <td>1551.050049</td>\n",
       "      <td>1534.282471</td>\n",
       "      <td>2983249</td>\n",
       "    </tr>\n",
       "    <tr>\n",
       "      <th>2022-08-02</th>\n",
       "      <td>1546.550049</td>\n",
       "      <td>1547.000000</td>\n",
       "      <td>1528.349976</td>\n",
       "      <td>1543.599976</td>\n",
       "      <td>1526.912964</td>\n",
       "      <td>4374635</td>\n",
       "    </tr>\n",
       "    <tr>\n",
       "      <th>2022-08-03</th>\n",
       "      <td>1549.000000</td>\n",
       "      <td>1570.000000</td>\n",
       "      <td>1539.900024</td>\n",
       "      <td>1566.099976</td>\n",
       "      <td>1549.169800</td>\n",
       "      <td>6011955</td>\n",
       "    </tr>\n",
       "    <tr>\n",
       "      <th>2022-08-04</th>\n",
       "      <td>1587.500000</td>\n",
       "      <td>1603.849976</td>\n",
       "      <td>1574.949951</td>\n",
       "      <td>1599.900024</td>\n",
       "      <td>1582.604370</td>\n",
       "      <td>7402209</td>\n",
       "    </tr>\n",
       "    <tr>\n",
       "      <th>2022-08-05</th>\n",
       "      <td>1608.400024</td>\n",
       "      <td>1625.699951</td>\n",
       "      <td>1602.300049</td>\n",
       "      <td>1616.650024</td>\n",
       "      <td>1599.173340</td>\n",
       "      <td>5361971</td>\n",
       "    </tr>\n",
       "    <tr>\n",
       "      <th>...</th>\n",
       "      <td>...</td>\n",
       "      <td>...</td>\n",
       "      <td>...</td>\n",
       "      <td>...</td>\n",
       "      <td>...</td>\n",
       "      <td>...</td>\n",
       "    </tr>\n",
       "    <tr>\n",
       "      <th>2023-04-06</th>\n",
       "      <td>1416.000000</td>\n",
       "      <td>1428.400024</td>\n",
       "      <td>1410.349976</td>\n",
       "      <td>1421.900024</td>\n",
       "      <td>1421.900024</td>\n",
       "      <td>6948465</td>\n",
       "    </tr>\n",
       "    <tr>\n",
       "      <th>2023-04-10</th>\n",
       "      <td>1423.949951</td>\n",
       "      <td>1434.000000</td>\n",
       "      <td>1415.000000</td>\n",
       "      <td>1427.599976</td>\n",
       "      <td>1427.599976</td>\n",
       "      <td>4993788</td>\n",
       "    </tr>\n",
       "    <tr>\n",
       "      <th>2023-04-11</th>\n",
       "      <td>1428.900024</td>\n",
       "      <td>1433.349976</td>\n",
       "      <td>1389.000000</td>\n",
       "      <td>1406.150024</td>\n",
       "      <td>1406.150024</td>\n",
       "      <td>6942255</td>\n",
       "    </tr>\n",
       "    <tr>\n",
       "      <th>2023-04-12</th>\n",
       "      <td>1413.050049</td>\n",
       "      <td>1431.500000</td>\n",
       "      <td>1400.000000</td>\n",
       "      <td>1428.300049</td>\n",
       "      <td>1428.300049</td>\n",
       "      <td>5831169</td>\n",
       "    </tr>\n",
       "    <tr>\n",
       "      <th>2023-04-13</th>\n",
       "      <td>1409.750000</td>\n",
       "      <td>1411.050049</td>\n",
       "      <td>1383.000000</td>\n",
       "      <td>1389.199951</td>\n",
       "      <td>1389.199951</td>\n",
       "      <td>11267238</td>\n",
       "    </tr>\n",
       "  </tbody>\n",
       "</table>\n",
       "<p>173 rows × 6 columns</p>\n",
       "</div>"
      ],
      "text/plain": [
       "                   Open         High          Low        Close    Adj Close  \\\n",
       "Date                                                                          \n",
       "2022-08-01  1564.000000  1564.000000  1537.900024  1551.050049  1534.282471   \n",
       "2022-08-02  1546.550049  1547.000000  1528.349976  1543.599976  1526.912964   \n",
       "2022-08-03  1549.000000  1570.000000  1539.900024  1566.099976  1549.169800   \n",
       "2022-08-04  1587.500000  1603.849976  1574.949951  1599.900024  1582.604370   \n",
       "2022-08-05  1608.400024  1625.699951  1602.300049  1616.650024  1599.173340   \n",
       "...                 ...          ...          ...          ...          ...   \n",
       "2023-04-06  1416.000000  1428.400024  1410.349976  1421.900024  1421.900024   \n",
       "2023-04-10  1423.949951  1434.000000  1415.000000  1427.599976  1427.599976   \n",
       "2023-04-11  1428.900024  1433.349976  1389.000000  1406.150024  1406.150024   \n",
       "2023-04-12  1413.050049  1431.500000  1400.000000  1428.300049  1428.300049   \n",
       "2023-04-13  1409.750000  1411.050049  1383.000000  1389.199951  1389.199951   \n",
       "\n",
       "              Volume  \n",
       "Date                  \n",
       "2022-08-01   2983249  \n",
       "2022-08-02   4374635  \n",
       "2022-08-03   6011955  \n",
       "2022-08-04   7402209  \n",
       "2022-08-05   5361971  \n",
       "...              ...  \n",
       "2023-04-06   6948465  \n",
       "2023-04-10   4993788  \n",
       "2023-04-11   6942255  \n",
       "2023-04-12   5831169  \n",
       "2023-04-13  11267238  \n",
       "\n",
       "[173 rows x 6 columns]"
      ]
     },
     "execution_count": 3,
     "metadata": {},
     "output_type": "execute_result"
    }
   ],
   "source": [
    "stock = yf.download('INFY.NS','2022-08-01','2023-04-15')\n",
    "stock"
   ]
  },
  {
   "cell_type": "code",
   "execution_count": 4,
   "id": "4bbe1cb3",
   "metadata": {},
   "outputs": [
    {
     "data": {
      "text/plain": [
       "Date\n",
       "2022-08-01          NaN\n",
       "2022-08-02          NaN\n",
       "2022-08-03          NaN\n",
       "2022-08-04          NaN\n",
       "2022-08-05          NaN\n",
       "                ...    \n",
       "2023-04-06    45.407112\n",
       "2023-04-10    47.027991\n",
       "2023-04-11    41.977113\n",
       "2023-04-12    48.167849\n",
       "2023-04-13    40.045448\n",
       "Length: 173, dtype: float64"
      ]
     },
     "execution_count": 4,
     "metadata": {},
     "output_type": "execute_result"
    }
   ],
   "source": [
    "rsi = ta.RSI(stock['Close'])\n",
    "rsi"
   ]
  },
  {
   "cell_type": "code",
   "execution_count": 19,
   "id": "7d8cdad2",
   "metadata": {},
   "outputs": [
    {
     "data": {
      "text/plain": [
       "Date\n",
       "2022-08-01         NaN\n",
       "2022-08-02         NaN\n",
       "2022-08-03         NaN\n",
       "2022-08-04         NaN\n",
       "2022-08-05         NaN\n",
       "                ...   \n",
       "2023-04-06    7.638010\n",
       "2023-04-10    8.613796\n",
       "2023-04-11    7.685687\n",
       "2023-04-12    8.377839\n",
       "2023-04-13    6.121319\n",
       "Length: 173, dtype: float64"
      ]
     },
     "execution_count": 19,
     "metadata": {},
     "output_type": "execute_result"
    }
   ],
   "source": [
    "macd = ta.MACD(stock['Close'])\n",
    "macd[2]"
   ]
  },
  {
   "cell_type": "code",
   "execution_count": 8,
   "id": "96e94f2a",
   "metadata": {},
   "outputs": [],
   "source": [
    "import matplotlib.pyplot as plt"
   ]
  },
  {
   "cell_type": "code",
   "execution_count": 10,
   "id": "62ab0e88",
   "metadata": {},
   "outputs": [
    {
     "data": {
      "image/png": "[encoded data removed]",
      "text/plain": [
       "<Figure size 432x288 with 1 Axes>"
      ]
     },
     "metadata": {
      "needs_background": "light"
     },
     "output_type": "display_data"
    }
   ],
   "source": [
    "plt.plot(rsi)\n",
    "plt.show()"
   ]
  },
  {
   "cell_type": "code",
   "execution_count": 20,
   "id": "cf52c9fe",
   "metadata": {},
   "outputs": [
    {
     "data": {
      "text/plain": [
       "Date\n",
       "2022-08-01         NaN\n",
       "2022-08-02         NaN\n",
       "2022-08-03         NaN\n",
       "2022-08-04         NaN\n",
       "2022-08-05         NaN\n",
       "                ...   \n",
       "2023-04-06    1.101067\n",
       "2023-04-10    2.603613\n",
       "2023-04-11    3.620028\n",
       "2023-04-12    4.571590\n",
       "2023-04-13    4.881536\n",
       "Length: 173, dtype: float64"
      ]
     },
     "execution_count": 20,
     "metadata": {},
     "output_type": "execute_result"
    }
   ],
   "source": [
    "signal = ta.EMA(macd[2], 9)\n",
    "signal"
   ]
  },
  {
   "cell_type": "code",
   "execution_count": 25,
   "id": "45a872a0",
   "metadata": {},
   "outputs": [
    {
     "ename": "AttributeError",
     "evalue": "'list' object has no attribute 'plot'",
     "output_type": "error",
     "traceback": [
      "\u001b[1;31m---------------------------------------------------------------------------\u001b[0m",
      "\u001b[1;31mAttributeError\u001b[0m                            Traceback (most recent call last)",
      "Input \u001b[1;32mIn [25]\u001b[0m, in \u001b[0;36m<cell line: 3>\u001b[1;34m()\u001b[0m\n\u001b[0;32m      5\u001b[0m         ax1\u001b[38;5;241m.\u001b[39mplot( marker \u001b[38;5;241m=\u001b[39m \u001b[38;5;124m'\u001b[39m\u001b[38;5;124m^\u001b[39m\u001b[38;5;124m'\u001b[39m, color \u001b[38;5;241m=\u001b[39m \u001b[38;5;124m'\u001b[39m\u001b[38;5;124mgreen\u001b[39m\u001b[38;5;124m'\u001b[39m, markersize \u001b[38;5;241m=\u001b[39m \u001b[38;5;241m10\u001b[39m, label \u001b[38;5;241m=\u001b[39m \u001b[38;5;124m'\u001b[39m\u001b[38;5;124mBUY SIGNAL\u001b[39m\u001b[38;5;124m'\u001b[39m, linewidth \u001b[38;5;241m=\u001b[39m \u001b[38;5;241m0\u001b[39m)\n\u001b[0;32m      6\u001b[0m     \u001b[38;5;28;01melse\u001b[39;00m:\n\u001b[1;32m----> 7\u001b[0m         \u001b[43max1\u001b[49m\u001b[38;5;241;43m.\u001b[39;49m\u001b[43mplot\u001b[49m( marker \u001b[38;5;241m=\u001b[39m \u001b[38;5;124m'\u001b[39m\u001b[38;5;124mv\u001b[39m\u001b[38;5;124m'\u001b[39m, color \u001b[38;5;241m=\u001b[39m \u001b[38;5;124m'\u001b[39m\u001b[38;5;124mr\u001b[39m\u001b[38;5;124m'\u001b[39m, markersize \u001b[38;5;241m=\u001b[39m \u001b[38;5;241m10\u001b[39m, label \u001b[38;5;241m=\u001b[39m \u001b[38;5;124m'\u001b[39m\u001b[38;5;124mSELL SIGNAL\u001b[39m\u001b[38;5;124m'\u001b[39m, linewidth \u001b[38;5;241m=\u001b[39m \u001b[38;5;241m0\u001b[39m)\n\u001b[0;32m      8\u001b[0m plt\u001b[38;5;241m.\u001b[39mshow()\n",
      "\u001b[1;31mAttributeError\u001b[0m: 'list' object has no attribute 'plot'"
     ]
    },
    {
     "data": {
      "image/png": "[encoded data removed]",
      "text/plain": [
       "<Figure size 432x288 with 1 Axes>"
      ]
     },
     "metadata": {
      "needs_background": "light"
     },
     "output_type": "display_data"
    }
   ],
   "source": [
    "ax1 = plt.plot(macd[2])\n",
    "ax2 = plt.plot(signal)\n",
    "for i in range(len(macd[2])):\n",
    "    if macd[2][i] < signal[i] :\n",
    "        ax1.plot( marker = '^', color = 'green', markersize = 10, label = 'BUY SIGNAL', linewidth = 0)\n",
    "    else:\n",
    "        ax1.plot( marker = 'v', color = 'r', markersize = 10, label = 'SELL SIGNAL', linewidth = 0)\n",
    "plt.show()"
   ]
  }
 ],
 "metadata": {
  "kernelspec": {
   "display_name": "Python 3 (ipykernel)",
   "language": "python",
   "name": "python3"
  },
  "language_info": {
   "codemirror_mode": {
    "name": "ipython",
    "version": 3
   },
   "file_extension": ".py",
   "mimetype": "text/x-python",
   "name": "python",
   "nbconvert_exporter": "python",
   "pygments_lexer": "ipython3",
   "version": "3.10.8"
  }
 },
 "nbformat": 4,
 "nbformat_minor": 5
}
